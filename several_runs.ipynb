{
 "cells": [
  {
   "cell_type": "code",
   "execution_count": 1,
   "metadata": {},
   "outputs": [],
   "source": [
    "import pandas as pd\n",
    "import numpy as np\n",
    "import matplotlib.pyplot as plt\n",
    "import seaborn as sns\n",
    "import random\n",
    "import json\n",
    "\n",
    "from tqdm.notebook import tqdm"
   ]
  },
  {
   "cell_type": "code",
   "execution_count": 2,
   "metadata": {},
   "outputs": [],
   "source": [
    "###################\n",
    "### Parameters ###\n",
    "###################\n",
    "\n",
    "###############\n",
    "## FOR MODEL ##\n",
    "###############\n",
    "\n",
    "data = {\n",
    "    'interest_rate' : 0.0025,\n",
    "    'agents' : 500,\n",
    "    'periods' : 1000,\n",
    "    'runs' : 200\n",
    "}\n",
    "\n",
    "################\n",
    "## FOR AGENTS ##\n",
    "################\n",
    "data.update({\n",
    "       \n",
    "    # Wealth distribution parameter: The higher, the lower the inequality\n",
    "    \"inequality_wealth\" : 5, \n",
    "\n",
    "    # Skills distribution parameter: The higher, the lower the inequality\n",
    "    \"inequality_skills\" : 3,\n",
    "    \"weight_gen_skills\" : 0.5, # theta in the paper (Meritocracy)\n",
    "\n",
    "    # Qualities and varieties parameters\n",
    "    \"qualities\" : 20, # Q in the paper\n",
    "    \"varieties\" : 10, # J in the paper\n",
    "\n",
    "    # Own good pricing parameters\n",
    "    \"a\" : 0.2, # a in the paper, that says it should be strictly larger than 0.\n",
    "    \"alpha\" : 1.5, # alpha in the paper, that says it should be strictly larger than 1\n",
    "\n",
    "    # Connectivity limits, parameters\n",
    "    \"min_connectivity\" : 10,\n",
    "    \"max_connectivity\" : 100, # int(data['agents']/2),\n",
    "\n",
    "    # Propensity to consume parameters\n",
    "    \"pc_a\" : 0.5, # a in the paper this a must be larger than 0.\n",
    "    \"pc_c_l\" : 0.1, # paper's c_l must be greater than 0 and lower than c_h\n",
    "    \"pc_c_h\" : 0.9, # paper's c_h must be larger than c_h but lower than 1.\n",
    "\n",
    "    # Connectivity update parameters\n",
    "    \"connect_w\" : 0.5, # w in the paper, must be >0, this reflects the importance of the change in wealth\n",
    "    \"connect_b\" : 0.5, # b in the paper, must be >0, this reflects the importance of the moral behavior\n",
    "\n",
    "    # Animal spirits parameters\n",
    "    \"as_gamma\" : 0.5, # gamma constant in the paper that states it should be in (0,1). Represents the importance of mean reversion.\n",
    "    \"as_g\" : 0.5, # g constant in the paper that states it should be in (0,1). Represents the importance of my friends.\n",
    "\n",
    "    # Moral behavior parameters\n",
    "    \"mb_z\" : 0.5, # constant z in the paper, reflects the influence of the peers, must be in (0,1)\n",
    "    \"mb_zeta\" : 0.5, # constant greek zeta in the paper, must be in (0,1) and weight of mean reversion.\n",
    "\n",
    "    # Political view parameters\n",
    "    \"pv_x\" : 0.5, # constant x in the paper must be in (0,1) and reflects influence of peers\n",
    "    \"pv_omega\" : 0.5 # constant omega in the paper must be in (0,1) reflects mean reversion\n",
    "})"
   ]
  },
  {
   "cell_type": "markdown",
   "metadata": {},
   "source": [
    "## Auxiliary Functions"
   ]
  },
  {
   "cell_type": "code",
   "execution_count": 3,
   "metadata": {},
   "outputs": [],
   "source": [
    "#define function to calculate Gini coefficient\n",
    "def gini(x):\n",
    "    total = 0\n",
    "    for i, xi in enumerate(x[:-1], 1):\n",
    "        total += np.sum(np.abs(xi - x[i:]))\n",
    "    return total / (len(x)**2 * np.mean(x))"
   ]
  },
  {
   "cell_type": "code",
   "execution_count": 4,
   "metadata": {},
   "outputs": [
    {
     "data": {
      "application/vnd.jupyter.widget-view+json": {
       "model_id": "ac6d039c28e24dfd92f2c0a7efca1e84",
       "version_major": 2,
       "version_minor": 0
      },
      "text/plain": [
       "  0%|          | 0/200 [00:00<?, ?it/s]"
      ]
     },
     "metadata": {},
     "output_type": "display_data"
    },
    {
     "name": "stderr",
     "output_type": "stream",
     "text": [
      "g:\\My Drive\\Work\\Research\\Economics\\Ongoing\\ABM Wealth\\ABM-Project-ISCAL\\virtenv\\Lib\\site-packages\\mesa\\time.py:82: FutureWarning: The AgentSet is experimental. It may be changed or removed in any and all future releases, including patch releases.\n",
      "We would love to hear what you think about this new feature. If you have any thoughts, share them with us here: https://github.com/projectmesa/mesa/discussions/1919\n",
      "  self._agents: AgentSet = AgentSet(agents, model)\n"
     ]
    }
   ],
   "source": [
    "from model import model\n",
    "\n",
    "initial_ginis = []\n",
    "final_ginis = []\n",
    "\n",
    "tax = []\n",
    "\n",
    "ag_political_view = []\n",
    "ag_animal_spirits = []\n",
    "ag_moral_behavior = []\n",
    "\n",
    "\n",
    "for _ in tqdm(range(data['runs'])):    \n",
    "\n",
    "    mymodel = model(data)\n",
    "\n",
    "    for _ in range(data['periods']):\n",
    "        mymodel.step()\n",
    "\n",
    "    results_model = mymodel.datacollector.get_model_vars_dataframe()\n",
    "    results_agents = mymodel.datacollector.get_agent_vars_dataframe()\n",
    "\n",
    "    tax.append(results_model['tax'].mean())\n",
    "    initial_ginis.append(gini(results_agents['wealth'].unstack().iloc[0,:]))\n",
    "    final_ginis.append(gini(results_agents['wealth'].unstack().iloc[-1,:]))"
   ]
  },
  {
   "cell_type": "code",
   "execution_count": 24,
   "metadata": {},
   "outputs": [
    {
     "data": {
      "image/png": "[encoded data removed]",
      "text/plain": [
       "<Figure size 640x480 with 1 Axes>"
      ]
     },
     "metadata": {},
     "output_type": "display_data"
    }
   ],
   "source": [
    "plt.hist(tax, bins = 50);\n",
    "plt.title('Histogram of tax');"
   ]
  },
  {
   "cell_type": "code",
   "execution_count": 42,
   "metadata": {},
   "outputs": [
    {
     "name": "stdout",
     "output_type": "stream",
     "text": [
      "0.11110455510293299\n"
     ]
    },
    {
     "data": {
      "image/png": "[encoded data removed]",
      "text/plain": [
       "<Figure size 640x480 with 1 Axes>"
      ]
     },
     "metadata": {},
     "output_type": "display_data"
    }
   ],
   "source": [
    "plt.hist(initial_ginis, bins = 50);\n",
    "plt.title('Histogram of Ginis: Initial Wealth');\n",
    "print(np.mean(initial_ginis))"
   ]
  },
  {
   "cell_type": "code",
   "execution_count": 43,
   "metadata": {},
   "outputs": [
    {
     "name": "stdout",
     "output_type": "stream",
     "text": [
      "0.04060183722042824\n"
     ]
    },
    {
     "data": {
      "image/png": "[encoded data removed]",
      "text/plain": [
       "<Figure size 640x480 with 1 Axes>"
      ]
     },
     "metadata": {},
     "output_type": "display_data"
    }
   ],
   "source": [
    "plt.hist(final_ginis, bins = 50);\n",
    "plt.title('Histogram of Ginis: Final Wealth');\n",
    "print(np.mean(final_ginis))"
   ]
  },
  {
   "cell_type": "code",
   "execution_count": 40,
   "metadata": {},
   "outputs": [
    {
     "name": "stdout",
     "output_type": "stream",
     "text": [
      "Average Tax is between 45.28% and 54.03%, with 95% confidence\n",
      "Initial Gini is between 9.95% and 12.59%, with 95% confidence\n",
      "Final Gini is between 3.32% and 4.99%, with 95% confidence\n"
     ]
    }
   ],
   "source": [
    "for k, v in {'Average Tax':tax, 'Initial Gini':initial_ginis, 'Final Gini':final_ginis}.items():\n",
    "    l_sorted = v.copy()\n",
    "    l_sorted = list(sorted(l_sorted))\n",
    "    print(f'{str.title(k)} is between {np.round(l_sorted[5] * 100, 2)}% and {np.round(l_sorted[194] * 100 , 2)}%, with 95% confidence')\n",
    "\n"
   ]
  },
  {
   "cell_type": "code",
   "execution_count": null,
   "metadata": {},
   "outputs": [],
   "source": []
  }
 ],
 "metadata": {
  "kernelspec": {
   "display_name": "virtenv",
   "language": "python",
   "name": "python3"
  },
  "language_info": {
   "codemirror_mode": {
    "name": "ipython",
    "version": 3
   },
   "file_extension": ".py",
   "mimetype": "text/x-python",
   "name": "python",
   "nbconvert_exporter": "python",
   "pygments_lexer": "ipython3",
   "version": "3.12.2"
  }
 },
 "nbformat": 4,
 "nbformat_minor": 2
}
